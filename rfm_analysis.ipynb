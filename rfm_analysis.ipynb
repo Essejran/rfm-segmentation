{
 "cells": [
  {
   "cell_type": "markdown",
   "id": "f581cade",
   "metadata": {},
   "source": [
    "# 🧺 RFM Segmentation Analysis"
   ]
  },
  {
   "cell_type": "code",
   "execution_count": null,
   "id": "bdb2a148",
   "metadata": {},
   "outputs": [],
   "source": [
    "\n",
    "import pandas as pd\n",
    "import matplotlib.pyplot as plt\n",
    "import seaborn as sns\n",
    "\n",
    "# Load the data\n",
    "df = pd.read_csv('../data/transactions.csv', parse_dates=['order_date'])\n",
    "df.head()\n",
    "    "
   ]
  },
  {
   "cell_type": "markdown",
   "id": "7e6fecbe",
   "metadata": {},
   "source": [
    "## Step 1: Calculate RFM Metrics"
   ]
  },
  {
   "cell_type": "code",
   "execution_count": null,
   "id": "dfe37e68",
   "metadata": {},
   "outputs": [],
   "source": [
    "\n",
    "snapshot_date = df['order_date'].max() + pd.Timedelta(days=1)\n",
    "rfm = df.groupby('customer_id').agg({\n",
    "    'order_date': lambda x: (snapshot_date - x.max()).days,\n",
    "    'customer_id': 'count',\n",
    "    'order_amount': 'sum'\n",
    "}).rename(columns={\n",
    "    'order_date': 'Recency',\n",
    "    'customer_id': 'Frequency',\n",
    "    'order_amount': 'Monetary'\n",
    "})\n",
    "rfm.head()\n",
    "    "
   ]
  },
  {
   "cell_type": "markdown",
   "id": "2774da24",
   "metadata": {},
   "source": [
    "## Step 2: Score & Segment Customers"
   ]
  },
  {
   "cell_type": "code",
   "execution_count": null,
   "id": "f834ead7",
   "metadata": {},
   "outputs": [],
   "source": [
    "\n",
    "rfm['R_quartile'] = pd.qcut(rfm['Recency'], 4, labels=[4,3,2,1])\n",
    "rfm['F_quartile'] = pd.qcut(rfm['Frequency'].rank(method=\"first\"), 4, labels=[1,2,3,4])\n",
    "rfm['M_quartile'] = pd.qcut(rfm['Monetary'], 4, labels=[1,2,3,4])\n",
    "\n",
    "rfm['RFM_Score'] = rfm['R_quartile'].astype(str) + rfm['F_quartile'].astype(str) + rfm['M_quartile'].astype(str)\n",
    "rfm.head()\n",
    "    "
   ]
  },
  {
   "cell_type": "markdown",
   "id": "1c907b77",
   "metadata": {},
   "source": [
    "## Step 3: Visualize Segments"
   ]
  },
  {
   "cell_type": "code",
   "execution_count": null,
   "id": "9489f953",
   "metadata": {},
   "outputs": [],
   "source": [
    "\n",
    "rfm['RFM_Score'].value_counts().head(10).plot(kind='barh', figsize=(10, 5))\n",
    "plt.title(\"Top RFM Segments\")\n",
    "plt.xlabel(\"Number of Customers\")\n",
    "plt.ylabel(\"RFM Score\")\n",
    "plt.show()\n",
    "    "
   ]
  }
 ],
 "metadata": {},
 "nbformat": 4,
 "nbformat_minor": 5
}

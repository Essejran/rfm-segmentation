{
 "cells": [
  {
   "cell_type": "markdown",
   "id": "f581cade",
   "metadata": {},
   "source": [
    "# 🧺 RFM Segmentation Analysis"
   ]
  },
  {
   "cell_type": "code",
   "execution_count": 6,
   "id": "5d6b2681",
   "metadata": {},
   "outputs": [
    {
     "data": {
      "text/html": [
       "<div>\n",
       "<style scoped>\n",
       "    .dataframe tbody tr th:only-of-type {\n",
       "        vertical-align: middle;\n",
       "    }\n",
       "\n",
       "    .dataframe tbody tr th {\n",
       "        vertical-align: top;\n",
       "    }\n",
       "\n",
       "    .dataframe thead th {\n",
       "        text-align: right;\n",
       "    }\n",
       "</style>\n",
       "<table border=\"1\" class=\"dataframe\">\n",
       "  <thead>\n",
       "    <tr style=\"text-align: right;\">\n",
       "      <th></th>\n",
       "      <th>customer_id</th>\n",
       "      <th>order_date</th>\n",
       "      <th>order_amount</th>\n",
       "    </tr>\n",
       "  </thead>\n",
       "  <tbody>\n",
       "    <tr>\n",
       "      <th>0</th>\n",
       "      <td>C0103</td>\n",
       "      <td>2025-05-13 13:17:44.794546</td>\n",
       "      <td>5.55</td>\n",
       "    </tr>\n",
       "    <tr>\n",
       "      <th>1</th>\n",
       "      <td>C0180</td>\n",
       "      <td>2025-06-15 13:17:44.794765</td>\n",
       "      <td>167.87</td>\n",
       "    </tr>\n",
       "    <tr>\n",
       "      <th>2</th>\n",
       "      <td>C0093</td>\n",
       "      <td>2025-04-13 13:17:44.794772</td>\n",
       "      <td>39.47</td>\n",
       "    </tr>\n",
       "    <tr>\n",
       "      <th>3</th>\n",
       "      <td>C0015</td>\n",
       "      <td>2025-03-14 13:17:44.794778</td>\n",
       "      <td>62.43</td>\n",
       "    </tr>\n",
       "    <tr>\n",
       "      <th>4</th>\n",
       "      <td>C0107</td>\n",
       "      <td>2025-02-02 13:17:44.794784</td>\n",
       "      <td>275.53</td>\n",
       "    </tr>\n",
       "  </tbody>\n",
       "</table>\n",
       "</div>"
      ],
      "text/plain": [
       "  customer_id                 order_date  order_amount\n",
       "0       C0103 2025-05-13 13:17:44.794546          5.55\n",
       "1       C0180 2025-06-15 13:17:44.794765        167.87\n",
       "2       C0093 2025-04-13 13:17:44.794772         39.47\n",
       "3       C0015 2025-03-14 13:17:44.794778         62.43\n",
       "4       C0107 2025-02-02 13:17:44.794784        275.53"
      ]
     },
     "execution_count": 6,
     "metadata": {},
     "output_type": "execute_result"
    }
   ],
   "source": [
    "import pandas as pd\n",
    "import matplotlib.pyplot as plt\n",
    "import seaborn as sns\n",
    "\n",
    "# load the data \n",
    "df = pd.read_csv(\"../data/transactions.csv\", parse_dates=[\"order_date\"])\n",
    "df.head()"
   ]
  },
  {
   "cell_type": "markdown",
   "id": "7e6fecbe",
   "metadata": {},
   "source": [
    "## Step 1: Calculate RFM Metrics"
   ]
  },
  {
   "cell_type": "code",
   "execution_count": 7,
   "id": "dfe37e68",
   "metadata": {},
   "outputs": [
    {
     "data": {
      "text/html": [
       "<div>\n",
       "<style scoped>\n",
       "    .dataframe tbody tr th:only-of-type {\n",
       "        vertical-align: middle;\n",
       "    }\n",
       "\n",
       "    .dataframe tbody tr th {\n",
       "        vertical-align: top;\n",
       "    }\n",
       "\n",
       "    .dataframe thead th {\n",
       "        text-align: right;\n",
       "    }\n",
       "</style>\n",
       "<table border=\"1\" class=\"dataframe\">\n",
       "  <thead>\n",
       "    <tr style=\"text-align: right;\">\n",
       "      <th></th>\n",
       "      <th>Recency</th>\n",
       "      <th>Frequency</th>\n",
       "      <th>Monetary</th>\n",
       "    </tr>\n",
       "    <tr>\n",
       "      <th>customer_id</th>\n",
       "      <th></th>\n",
       "      <th></th>\n",
       "      <th></th>\n",
       "    </tr>\n",
       "  </thead>\n",
       "  <tbody>\n",
       "    <tr>\n",
       "      <th>C0001</th>\n",
       "      <td>4</td>\n",
       "      <td>15</td>\n",
       "      <td>1181.83</td>\n",
       "    </tr>\n",
       "    <tr>\n",
       "      <th>C0002</th>\n",
       "      <td>13</td>\n",
       "      <td>8</td>\n",
       "      <td>757.60</td>\n",
       "    </tr>\n",
       "    <tr>\n",
       "      <th>C0003</th>\n",
       "      <td>5</td>\n",
       "      <td>10</td>\n",
       "      <td>1059.75</td>\n",
       "    </tr>\n",
       "    <tr>\n",
       "      <th>C0004</th>\n",
       "      <td>2</td>\n",
       "      <td>10</td>\n",
       "      <td>502.30</td>\n",
       "    </tr>\n",
       "    <tr>\n",
       "      <th>C0005</th>\n",
       "      <td>12</td>\n",
       "      <td>14</td>\n",
       "      <td>1199.99</td>\n",
       "    </tr>\n",
       "  </tbody>\n",
       "</table>\n",
       "</div>"
      ],
      "text/plain": [
       "             Recency  Frequency  Monetary\n",
       "customer_id                              \n",
       "C0001              4         15   1181.83\n",
       "C0002             13          8    757.60\n",
       "C0003              5         10   1059.75\n",
       "C0004              2         10    502.30\n",
       "C0005             12         14   1199.99"
      ]
     },
     "execution_count": 7,
     "metadata": {},
     "output_type": "execute_result"
    }
   ],
   "source": [
    "\n",
    "snapshot_date = df['order_date'].max() + pd.Timedelta(days=1)\n",
    "rfm = df.groupby('customer_id').agg({\n",
    "    'order_date': lambda x: (snapshot_date - x.max()).days,\n",
    "    'customer_id': 'count',\n",
    "    'order_amount': 'sum'\n",
    "}).rename(columns={\n",
    "    'order_date': 'Recency',\n",
    "    'customer_id': 'Frequency',\n",
    "    'order_amount': 'Monetary'\n",
    "})\n",
    "rfm.head()\n",
    "    "
   ]
  },
  {
   "cell_type": "markdown",
   "id": "2774da24",
   "metadata": {},
   "source": [
    "## Step 2: Score & Segment Customers"
   ]
  },
  {
   "cell_type": "code",
   "execution_count": 8,
   "id": "f834ead7",
   "metadata": {},
   "outputs": [
    {
     "data": {
      "text/html": [
       "<div>\n",
       "<style scoped>\n",
       "    .dataframe tbody tr th:only-of-type {\n",
       "        vertical-align: middle;\n",
       "    }\n",
       "\n",
       "    .dataframe tbody tr th {\n",
       "        vertical-align: top;\n",
       "    }\n",
       "\n",
       "    .dataframe thead th {\n",
       "        text-align: right;\n",
       "    }\n",
       "</style>\n",
       "<table border=\"1\" class=\"dataframe\">\n",
       "  <thead>\n",
       "    <tr style=\"text-align: right;\">\n",
       "      <th></th>\n",
       "      <th>Recency</th>\n",
       "      <th>Frequency</th>\n",
       "      <th>Monetary</th>\n",
       "      <th>R_quartile</th>\n",
       "      <th>F_quartile</th>\n",
       "      <th>M_quartile</th>\n",
       "      <th>RFM_Score</th>\n",
       "    </tr>\n",
       "    <tr>\n",
       "      <th>customer_id</th>\n",
       "      <th></th>\n",
       "      <th></th>\n",
       "      <th></th>\n",
       "      <th></th>\n",
       "      <th></th>\n",
       "      <th></th>\n",
       "      <th></th>\n",
       "    </tr>\n",
       "  </thead>\n",
       "  <tbody>\n",
       "    <tr>\n",
       "      <th>C0001</th>\n",
       "      <td>4</td>\n",
       "      <td>15</td>\n",
       "      <td>1181.83</td>\n",
       "      <td>3</td>\n",
       "      <td>4</td>\n",
       "      <td>4</td>\n",
       "      <td>344</td>\n",
       "    </tr>\n",
       "    <tr>\n",
       "      <th>C0002</th>\n",
       "      <td>13</td>\n",
       "      <td>8</td>\n",
       "      <td>757.60</td>\n",
       "      <td>2</td>\n",
       "      <td>1</td>\n",
       "      <td>3</td>\n",
       "      <td>213</td>\n",
       "    </tr>\n",
       "    <tr>\n",
       "      <th>C0003</th>\n",
       "      <td>5</td>\n",
       "      <td>10</td>\n",
       "      <td>1059.75</td>\n",
       "      <td>3</td>\n",
       "      <td>2</td>\n",
       "      <td>4</td>\n",
       "      <td>324</td>\n",
       "    </tr>\n",
       "    <tr>\n",
       "      <th>C0004</th>\n",
       "      <td>2</td>\n",
       "      <td>10</td>\n",
       "      <td>502.30</td>\n",
       "      <td>4</td>\n",
       "      <td>2</td>\n",
       "      <td>1</td>\n",
       "      <td>421</td>\n",
       "    </tr>\n",
       "    <tr>\n",
       "      <th>C0005</th>\n",
       "      <td>12</td>\n",
       "      <td>14</td>\n",
       "      <td>1199.99</td>\n",
       "      <td>2</td>\n",
       "      <td>4</td>\n",
       "      <td>4</td>\n",
       "      <td>244</td>\n",
       "    </tr>\n",
       "  </tbody>\n",
       "</table>\n",
       "</div>"
      ],
      "text/plain": [
       "             Recency  Frequency  Monetary R_quartile F_quartile M_quartile  \\\n",
       "customer_id                                                                  \n",
       "C0001              4         15   1181.83          3          4          4   \n",
       "C0002             13          8    757.60          2          1          3   \n",
       "C0003              5         10   1059.75          3          2          4   \n",
       "C0004              2         10    502.30          4          2          1   \n",
       "C0005             12         14   1199.99          2          4          4   \n",
       "\n",
       "            RFM_Score  \n",
       "customer_id            \n",
       "C0001             344  \n",
       "C0002             213  \n",
       "C0003             324  \n",
       "C0004             421  \n",
       "C0005             244  "
      ]
     },
     "execution_count": 8,
     "metadata": {},
     "output_type": "execute_result"
    }
   ],
   "source": [
    "\n",
    "rfm['R_quartile'] = pd.qcut(rfm['Recency'], 4, labels=[4,3,2,1])\n",
    "rfm['F_quartile'] = pd.qcut(rfm['Frequency'].rank(method=\"first\"), 4, labels=[1,2,3,4])\n",
    "rfm['M_quartile'] = pd.qcut(rfm['Monetary'], 4, labels=[1,2,3,4])\n",
    "\n",
    "rfm['RFM_Score'] = rfm['R_quartile'].astype(str) + rfm['F_quartile'].astype(str) + rfm['M_quartile'].astype(str)\n",
    "rfm.head()\n",
    "    "
   ]
  },
  {
   "cell_type": "markdown",
   "id": "1c907b77",
   "metadata": {},
   "source": [
    "## Step 3: Visualize Segments"
   ]
  },
  {
   "cell_type": "code",
   "execution_count": 9,
   "id": "9489f953",
   "metadata": {},
   "outputs": [
    {
     "data": {
      "image/png": "[encoded data removed]",
      "text/plain": [
       "<Figure size 1000x500 with 1 Axes>"
      ]
     },
     "metadata": {},
     "output_type": "display_data"
    }
   ],
   "source": [
    "\n",
    "rfm['RFM_Score'].value_counts().head(10).plot(kind='barh', figsize=(10, 5))\n",
    "plt.title(\"Top RFM Segments\")\n",
    "plt.xlabel(\"Number of Customers\")\n",
    "plt.ylabel(\"RFM Score\")\n",
    "plt.show()\n",
    "    "
   ]
  },
  {
   "cell_type": "code",
   "execution_count": 10,
   "id": "f25cb962",
   "metadata": {},
   "outputs": [
    {
     "data": {
      "image/png": "[encoded data removed]",
      "text/plain": [
       "<Figure size 1000x500 with 1 Axes>"
      ]
     },
     "metadata": {},
     "output_type": "display_data"
    }
   ],
   "source": [
    "# Define a function to label segments\n",
    "def segment_customer(row):\n",
    "    r, f, m = int(row['R_quartile']), int(row['F_quartile']), int(row['M_quartile'])\n",
    "    \n",
    "    if r == 4 and f >= 3 and m >= 3:\n",
    "        return \"Champions\"\n",
    "    elif r >= 3 and f >= 3:\n",
    "        return \"Loyal\"\n",
    "    elif r == 4 and f <= 2:\n",
    "        return \"New Customers\"\n",
    "    elif r <= 2 and f >= 3:\n",
    "        return \"At Risk\"\n",
    "    elif r == 1 and f == 1 and m == 1:\n",
    "        return \"Lost\"\n",
    "    else:\n",
    "        return \"Need Attention\"\n",
    "\n",
    "# Apply the function\n",
    "rfm['Segment'] = rfm.apply(segment_customer, axis=1)\n",
    "\n",
    "# View segment distribution\n",
    "rfm['Segment'].value_counts().plot(kind='bar', figsize=(10,5), title='Customer Segments')\n",
    "plt.xlabel(\"Segment\")\n",
    "plt.ylabel(\"Number of Customers\")\n",
    "plt.tight_layout()\n",
    "plt.show()\n"
   ]
  }
 ],
 "metadata": {
  "kernelspec": {
   "display_name": "venv",
   "language": "python",
   "name": "python3"
  },
  "language_info": {
   "codemirror_mode": {
    "name": "ipython",
    "version": 3
   },
   "file_extension": ".py",
   "mimetype": "text/x-python",
   "name": "python",
   "nbconvert_exporter": "python",
   "pygments_lexer": "ipython3",
   "version": "3.13.5"
  }
 },
 "nbformat": 4,
 "nbformat_minor": 5
}
